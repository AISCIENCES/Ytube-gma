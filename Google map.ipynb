{
 "cells": [
  {
   "cell_type": "code",
   "execution_count": 2,
   "metadata": {},
   "outputs": [
    {
     "name": "stdout",
     "output_type": "stream",
     "text": [
      "Collecting selenium\n",
      "  Downloading selenium-4.1.2-py3-none-any.whl (963 kB)\n",
      "Collecting urllib3[secure,socks]~=1.26\n",
      "  Downloading urllib3-1.26.8-py2.py3-none-any.whl (138 kB)\n",
      "Collecting trio~=0.17\n",
      "  Downloading trio-0.20.0-py3-none-any.whl (359 kB)\n",
      "Collecting trio-websocket~=0.9\n",
      "  Downloading trio_websocket-0.9.2-py3-none-any.whl (16 kB)\n",
      "Requirement already satisfied: idna>=2.0.0; extra == \"secure\" in c:\\users\\mg\\anaconda3\\lib\\site-packages (from urllib3[secure,socks]~=1.26->selenium) (2.10)\n",
      "Requirement already satisfied: certifi; extra == \"secure\" in c:\\users\\mg\\anaconda3\\lib\\site-packages (from urllib3[secure,socks]~=1.26->selenium) (2020.6.20)\n",
      "Requirement already satisfied: pyOpenSSL>=0.14; extra == \"secure\" in c:\\users\\mg\\anaconda3\\lib\\site-packages (from urllib3[secure,socks]~=1.26->selenium) (19.1.0)\n",
      "Requirement already satisfied: cryptography>=1.3.4; extra == \"secure\" in c:\\users\\mg\\anaconda3\\lib\\site-packages (from urllib3[secure,socks]~=1.26->selenium) (2.9.2)\n",
      "Requirement already satisfied: PySocks!=1.5.7,<2.0,>=1.5.6; extra == \"socks\" in c:\\users\\mg\\anaconda3\\lib\\site-packages (from urllib3[secure,socks]~=1.26->selenium) (1.7.1)\n",
      "Collecting sniffio\n",
      "  Downloading sniffio-1.2.0-py3-none-any.whl (10 kB)\n",
      "Collecting outcome\n",
      "  Downloading outcome-1.1.0-py2.py3-none-any.whl (9.7 kB)\n",
      "Requirement already satisfied: cffi>=1.14; os_name == \"nt\" and implementation_name != \"pypy\" in c:\\users\\mg\\anaconda3\\lib\\site-packages (from trio~=0.17->selenium) (1.14.0)\n",
      "Requirement already satisfied: sortedcontainers in c:\\users\\mg\\anaconda3\\lib\\site-packages (from trio~=0.17->selenium) (2.2.2)\n",
      "Collecting async-generator>=1.9\n",
      "  Downloading async_generator-1.10-py3-none-any.whl (18 kB)\n",
      "Requirement already satisfied: attrs>=19.2.0 in c:\\users\\mg\\anaconda3\\lib\\site-packages (from trio~=0.17->selenium) (19.3.0)\n",
      "Collecting wsproto>=0.14\n",
      "  Downloading wsproto-1.1.0-py3-none-any.whl (24 kB)\n",
      "Requirement already satisfied: six>=1.5.2 in c:\\users\\mg\\anaconda3\\lib\\site-packages (from pyOpenSSL>=0.14; extra == \"secure\"->urllib3[secure,socks]~=1.26->selenium) (1.15.0)\n",
      "Requirement already satisfied: pycparser in c:\\users\\mg\\anaconda3\\lib\\site-packages (from cffi>=1.14; os_name == \"nt\" and implementation_name != \"pypy\"->trio~=0.17->selenium) (2.20)\n",
      "Collecting h11<1,>=0.9.0\n",
      "  Downloading h11-0.13.0-py3-none-any.whl (58 kB)\n",
      "Installing collected packages: urllib3, sniffio, outcome, async-generator, trio, h11, wsproto, trio-websocket, selenium\n",
      "  Attempting uninstall: urllib3\n"
     ]
    },
    {
     "name": "stderr",
     "output_type": "stream",
     "text": [
      "ERROR: conda 4.11.0 requires ruamel_yaml_conda>=0.11.14, which is not installed.\n"
     ]
    },
    {
     "name": "stdout",
     "output_type": "stream",
     "text": [
      "    Found existing installation: urllib3 1.25.9\n",
      "    Uninstalling urllib3-1.25.9:\n",
      "      Successfully uninstalled urllib3-1.25.9\n",
      "Successfully installed async-generator-1.10 h11-0.13.0 outcome-1.1.0 selenium-4.1.2 sniffio-1.2.0 trio-0.20.0 trio-websocket-0.9.2 urllib3-1.26.8 wsproto-1.1.0\n"
     ]
    }
   ],
   "source": [
    "!pip install selenium\n"
   ]
  },
  {
   "cell_type": "code",
   "execution_count": 7,
   "metadata": {},
   "outputs": [
    {
     "name": "stderr",
     "output_type": "stream",
     "text": [
      "<ipython-input-7-2e567ed989ca>:3: DeprecationWarning: executable_path has been deprecated, please pass in a Service object\n",
      "  driver = webdriver.Chrome(r\"C:\\Users\\mg\\Desktop\\google map automation\\chromedriver.exe\") #Installtion path or chrome web driver\n",
      "<ipython-input-7-2e567ed989ca>:11: DeprecationWarning: find_element_by_class_name is deprecated. Please use find_element(by=By.CLASS_NAME, value=name) instead\n",
      "  Place = driver.find_element_by_class_name('tactile-searchbox-input')\n",
      "<ipython-input-7-2e567ed989ca>:13: DeprecationWarning: find_element_by_xpath is deprecated. Please use find_element(by=By.XPATH, value=xpath) instead\n",
      "  submit = driver.find_element_by_xpath(\"/html/body/div[3]/div[9]/div[3]/div[1]/div[1]/div[1]/div[2]/div[1]/button\")\n",
      "<ipython-input-7-2e567ed989ca>:19: DeprecationWarning: find_element_by_xpath is deprecated. Please use find_element(by=By.XPATH, value=xpath) instead\n",
      "  direction = driver.find_element_by_xpath(\"/html/body/div[3]/div[9]/div[8]/div/div[1]/div/div/div[4]/div[1]/button\")\n",
      "<ipython-input-7-2e567ed989ca>:25: DeprecationWarning: find_element_by_xpath is deprecated. Please use find_element(by=By.XPATH, value=xpath) instead\n",
      "  find = driver.find_element_by_xpath('/html/body/div[3]/div[9]/div[3]/div[1]/div[2]/div/div[3]/div[1]/div[1]/div[2]/div[1]/div/input')\n",
      "<ipython-input-7-2e567ed989ca>:27: DeprecationWarning: find_element_by_xpath is deprecated. Please use find_element(by=By.XPATH, value=xpath) instead\n",
      "  search = driver.find_element_by_xpath(\"/html/body/div[3]/div[9]/div[3]/div[1]/div[2]/div/div[3]/div[1]/div[1]/div[2]/button[1]\")\n"
     ]
    },
    {
     "name": "stdout",
     "output_type": "stream",
     "text": [
      "Total Distance:  286 miles\n",
      "Time Take by Vehcile:  6 hr 24 min\n",
      "Time Take by Train:  2 hr 16 min\n",
      "Time Take by Aroplane:  \n"
     ]
    },
    {
     "name": "stderr",
     "output_type": "stream",
     "text": [
      "<ipython-input-7-2e567ed989ca>:34: DeprecationWarning: find_element_by_xpath is deprecated. Please use find_element(by=By.XPATH, value=xpath) instead\n",
      "  distance = driver.find_element_by_xpath(\"/html/body/div[3]/div[9]/div[8]/div/div[1]/div/div/div[4]/div[2]/div/div[1]/div[1]/div[2]/div\")\n",
      "<ipython-input-7-2e567ed989ca>:37: DeprecationWarning: find_element_by_xpath is deprecated. Please use find_element(by=By.XPATH, value=xpath) instead\n",
      "  car = driver.find_element_by_xpath(\"/html/body/div[3]/div[9]/div[8]/div/div[1]/div/div/div[4]/div[2]/div/div[1]/div[1]/div[1]/span[1]\")\n",
      "<ipython-input-7-2e567ed989ca>:40: DeprecationWarning: find_element_by_xpath is deprecated. Please use find_element(by=By.XPATH, value=xpath) instead\n",
      "  train = driver.find_element_by_xpath(\"/html/body/div[3]/div[9]/div[8]/div/div[1]/div/div/div[4]/div[1]/div/div[2]/div[1]/div\")\n",
      "<ipython-input-7-2e567ed989ca>:43: DeprecationWarning: find_element_by_xpath is deprecated. Please use find_element(by=By.XPATH, value=xpath) instead\n",
      "  aroplane = driver.find_element_by_xpath(\"/html/body/div[3]/div[9]/div[8]/div/div[1]/div/div/div[4]/div[3]/div/div[4]/div[1]/div/div[1]\")\n"
     ]
    }
   ],
   "source": [
    "from selenium import webdriver  #automation proceess library\n",
    "from time import sleep\n",
    "driver = webdriver.Chrome(r\"C:\\Users\\mg\\Desktop\\google map automation\\chromedriver.exe\") #Installtion path or chrome web driver \n",
    "driver.get(\"https://www.google.com/maps/@31.4855012,74.3470166,15z\") \n",
    "sleep(2) \n",
    "\n",
    "#xpath is stand for XML path language, uses path expression to identify and navigate nodes in an XML document can be use to \n",
    "#select  one/more nodes in the document by using absolute / relative path \n",
    "\n",
    "def searchplace():\n",
    "    Place = driver.find_element_by_class_name('tactile-searchbox-input')\n",
    "    Place.send_keys(\"Paris\")\n",
    "    submit = driver.find_element_by_xpath(\"/html/body/div[3]/div[9]/div[3]/div[1]/div[1]/div[1]/div[2]/div[1]/button\")\n",
    "    submit.click()\n",
    "searchplace()\n",
    "\n",
    "def direction():\n",
    "    sleep(10)\n",
    "    direction = driver.find_element_by_xpath(\"/html/body/div[3]/div[9]/div[8]/div/div[1]/div/div/div[4]/div[1]/button\")\n",
    "    direction.click()\n",
    "direction()\n",
    "\n",
    "def find():\n",
    "    sleep(10)\n",
    "    find = driver.find_element_by_xpath('/html/body/div[3]/div[9]/div[3]/div[1]/div[2]/div/div[3]/div[1]/div[1]/div[2]/div[1]/div/input')\n",
    "    find.send_keys(\"London\")\n",
    "    search = driver.find_element_by_xpath(\"/html/body/div[3]/div[9]/div[3]/div[1]/div[2]/div/div[3]/div[1]/div[1]/div[2]/button[1]\")\n",
    "    search.click()\n",
    "\n",
    "find()\n",
    "\n",
    "def distancetime():\n",
    "    sleep(8)\n",
    "    distance = driver.find_element_by_xpath(\"/html/body/div[3]/div[9]/div[8]/div/div[1]/div/div/div[4]/div[2]/div/div[1]/div[1]/div[2]/div\")\n",
    "    print(\"Total Distance: \",distance.text)\n",
    "                                        \n",
    "    car = driver.find_element_by_xpath(\"/html/body/div[3]/div[9]/div[8]/div/div[1]/div/div/div[4]/div[2]/div/div[1]/div[1]/div[1]/span[1]\")\n",
    "    print(\"Time Take by Vehcile: \",car.text)\n",
    "\n",
    "    train = driver.find_element_by_xpath(\"/html/body/div[3]/div[9]/div[8]/div/div[1]/div/div/div[4]/div[1]/div/div[2]/div[1]/div\")\n",
    "    print(\"Time Take by Train: \",train.text)\n",
    "    \n",
    "    aroplane = driver.find_element_by_xpath(\"/html/body/div[3]/div[9]/div[8]/div/div[1]/div/div/div[4]/div[3]/div/div[4]/div[1]/div/div[1]\")\n",
    "    print(\"Time Take by Aroplane: \",aroplane.text)\n",
    "    \n",
    "distancetime()\n",
    "   \n",
    "\n"
   ]
  },
  {
   "cell_type": "code",
   "execution_count": null,
   "metadata": {},
   "outputs": [],
   "source": []
  },
  {
   "cell_type": "code",
   "execution_count": null,
   "metadata": {},
   "outputs": [],
   "source": []
  },
  {
   "cell_type": "code",
   "execution_count": null,
   "metadata": {},
   "outputs": [],
   "source": []
  },
  {
   "cell_type": "code",
   "execution_count": null,
   "metadata": {},
   "outputs": [],
   "source": []
  }
 ],
 "metadata": {
  "kernelspec": {
   "display_name": "Python 3",
   "language": "python",
   "name": "python3"
  },
  "language_info": {
   "codemirror_mode": {
    "name": "ipython",
    "version": 3
   },
   "file_extension": ".py",
   "mimetype": "text/x-python",
   "name": "python",
   "nbconvert_exporter": "python",
   "pygments_lexer": "ipython3",
   "version": "3.8.3"
  }
 },
 "nbformat": 4,
 "nbformat_minor": 5
}
